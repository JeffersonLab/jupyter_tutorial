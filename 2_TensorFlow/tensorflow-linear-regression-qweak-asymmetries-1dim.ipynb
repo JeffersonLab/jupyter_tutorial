{
 "cells": [
  {
   "cell_type": "markdown",
   "metadata": {},
   "source": [
    "# Linear regression of the Qweak quartet asymmetries using TensorFlow\n",
    "\n",
    "In the Qweak experiment the helicity asymmetries in the 8 main detectors are correlated to the beam parameters, in particular to the beam positions, beam slopes, beam energy, and beam current. Each main detector is read out by 2 channels, the so-called positive and negative PMT (with the sign defined by the direction in azimuthal angle).\n",
    "\n",
    "Each data point is an integrated current over 1 ms and consists of 4 sub-measurements, the so-called sub-blocks, of 0.25 ms. The slopes of the sub-blocks with the beam parameters should be the same, and should be identical to the slopes of the sum.\n",
    "\n",
    "The goal is to determine the beam parameter slopes for a single main detector channel and for a single runlet (~65k data points, 5 minutes of data). We will use TensorFlow for this. Why? Because we can."
   ]
  },
  {
   "cell_type": "code",
   "execution_count": 1,
   "metadata": {},
   "outputs": [],
   "source": [
    "# Setup user package dir\n",
    "import sys, os, getpass\n",
    "sys.path.insert(0,\"/u/home/\" + getpass.getuser() + \"/.local/\")"
   ]
  },
  {
   "cell_type": "code",
   "execution_count": 2,
   "metadata": {},
   "outputs": [],
   "source": [
    "import uproot\n",
    "import tensorflow as tf"
   ]
  },
  {
   "cell_type": "code",
   "execution_count": 3,
   "metadata": {},
   "outputs": [],
   "source": [
    "import numpy\n",
    "rng = numpy.random"
   ]
  },
  {
   "cell_type": "code",
   "execution_count": 4,
   "metadata": {},
   "outputs": [],
   "source": [
    "import matplotlib.pyplot as plt"
   ]
  },
  {
   "cell_type": "markdown",
   "metadata": {},
   "source": [
    "## Learning parameters\n",
    "\n",
    "TensorFlow is a machine learning algorithm and therefore has meta parameters. First of all we have the learning rate: how does the gradient in the cost function effect a change to the model parameters? Next we have the number of epochs, or basically how many steps of training do we let the model go through?\n",
    "\n",
    "The outcomes of this exercise will depend on the learning parameters. Changes to a different context will require changes to the learning parameters."
   ]
  },
  {
   "cell_type": "code",
   "execution_count": 5,
   "metadata": {},
   "outputs": [],
   "source": [
    "# Parameters\n",
    "learning_rate = 0.1\n",
    "training_epochs = 1000\n",
    "display_step = training_epochs/10"
   ]
  },
  {
   "cell_type": "markdown",
   "metadata": {},
   "source": [
    "## Load the data\n",
    "\n",
    "We use uproot to load the file, get the tree, and transform into numpy arrays."
   ]
  },
  {
   "cell_type": "code",
   "execution_count": 6,
   "metadata": {},
   "outputs": [],
   "source": [
    "# Open file and get tree\n",
    "tfile = uproot.open('/lustre/expphy/cache/hallc/qweak/rootfiles/pass5b/QwPass5b_18110.000.trees.root')\n",
    "ttree = tfile.get(\"Hel_Tree\")\n",
    "\n",
    "# Choose fields of qwk to regress on\n",
    "field = ['block0','block1','block2','block3']\n",
    "field = 'hw_sum'"
   ]
  },
  {
   "cell_type": "markdown",
   "metadata": {},
   "source": [
    "We have a fixed number of independent variables in this model. These are our X variables."
   ]
  },
  {
   "cell_type": "code",
   "execution_count": 7,
   "metadata": {},
   "outputs": [],
   "source": [
    "# Training data: X\n",
    "asym_qwk_charge = ttree.array(\"asym_qwk_charge\")[field]\n",
    "diff_qwk_energy = ttree.array(\"diff_qwk_energy\")[field]\n",
    "diff_qwk_targetX = ttree.array(\"diff_qwk_targetX\")[field]\n",
    "diff_qwk_targetY = ttree.array(\"diff_qwk_targetY\")[field]\n",
    "diff_qwk_targetXSlope = ttree.array(\"diff_qwk_targetXSlope\")[field]\n",
    "diff_qwk_targetYSlope = ttree.array(\"diff_qwk_targetYSlope\")[field]"
   ]
  },
  {
   "cell_type": "markdown",
   "metadata": {},
   "source": [
    "We can choose any number of depenedent variables, but each dependent variable will get its own set of model parameters. These are our Y variables."
   ]
  },
  {
   "cell_type": "code",
   "execution_count": 8,
   "metadata": {},
   "outputs": [],
   "source": [
    "# Training data: Y\n",
    "asym_qwk_md1neg = ttree.array(\"asym_qwk_md1neg\")[field]\n",
    "asym_qwk_md1pos = ttree.array(\"asym_qwk_md1pos\")[field]"
   ]
  },
  {
   "cell_type": "code",
   "execution_count": 9,
   "metadata": {},
   "outputs": [],
   "source": [
    "train_X = diff_qwk_targetX[:100]\n",
    "train_Y = asym_qwk_md1neg[:100]\n",
    "n_samples = train_X.shape[0]"
   ]
  },
  {
   "cell_type": "code",
   "execution_count": 10,
   "metadata": {},
   "outputs": [],
   "source": [
    "# tf graph input\n",
    "X = tf.placeholder(\"float\")\n",
    "Y = tf.placeholder(\"float\")\n",
    "\n",
    "# Set model weights\n",
    "W = tf.Variable(0.001*rng.randn(), name=\"weight\")\n",
    "b = tf.Variable(0.001*rng.randn(), name=\"bias\")"
   ]
  },
  {
   "cell_type": "markdown",
   "metadata": {},
   "source": [
    "Our predictor function is a linear model with weights `W` and bias `b`."
   ]
  },
  {
   "cell_type": "code",
   "execution_count": 11,
   "metadata": {},
   "outputs": [],
   "source": [
    "# Construct a linear model\n",
    "pred = tf.add(tf.multiply(X, W), b)"
   ]
  },
  {
   "cell_type": "markdown",
   "metadata": {},
   "source": [
    "We will optimize on the cost function of the mean squared error. We use gradient descent for optimization."
   ]
  },
  {
   "cell_type": "code",
   "execution_count": 12,
   "metadata": {},
   "outputs": [],
   "source": [
    "# Mean squared error\n",
    "cost = tf.reduce_sum(tf.pow(pred-Y, 2))/(2*n_samples)\n",
    "# Gradient descent\n",
    "optimizer = tf.train.GradientDescentOptimizer(learning_rate).minimize(cost)"
   ]
  },
  {
   "cell_type": "code",
   "execution_count": 13,
   "metadata": {},
   "outputs": [],
   "source": [
    "# Initialize the variables (i.e. assign their default value)\n",
    "init = tf.global_variables_initializer()"
   ]
  },
  {
   "cell_type": "code",
   "execution_count": 14,
   "metadata": {},
   "outputs": [
    {
     "name": "stdout",
     "output_type": "stream",
     "text": [
      "Epoch: 0100 cost= 0.000017276 W= -0.0012308994 b= -0.0003284457\n",
      "Epoch: 0200 cost= 0.000017276 W= -0.0011611237 b= -0.000328551\n",
      "Epoch: 0300 cost= 0.000017275 W= -0.0010917868 b= -0.0003285759\n",
      "Epoch: 0400 cost= 0.000017275 W= -0.0010228421 b= -0.00032860038\n",
      "Epoch: 0500 cost= 0.000017274 W= -0.0009543246 b= -0.00032862555\n",
      "Epoch: 0600 cost= 0.000017274 W= -0.0008861887 b= -0.00032864948\n",
      "Epoch: 0700 cost= 0.000017273 W= -0.00081846956 b= -0.00032867427\n",
      "Epoch: 0800 cost= 0.000017273 W= -0.0007511416 b= -0.00032869834\n",
      "Epoch: 0900 cost= 0.000017273 W= -0.0006841968 b= -0.0003287222\n",
      "Epoch: 1000 cost= 0.000017272 W= -0.0006176494 b= -0.0003287462\n",
      "Optimization Finished!\n",
      "Training cost= 1.7272072e-05 W= -0.0006176494 b= -0.0003287462 \n",
      "\n"
     ]
    },
    {
     "data": {
      "image/png": "[encoded data removed]",
      "text/plain": [
       "<Figure size 432x288 with 1 Axes>"
      ]
     },
     "metadata": {},
     "output_type": "display_data"
    }
   ],
   "source": [
    "# Start training\n",
    "with tf.Session() as sess:\n",
    "    sess.run(init)\n",
    "\n",
    "    # Fit all training data\n",
    "    for epoch in range(training_epochs):\n",
    "        for (x, y) in zip(train_X, train_Y):\n",
    "            sess.run(optimizer, feed_dict={X: x, Y: y})\n",
    "\n",
    "        #Display logs per epoch step\n",
    "        if (epoch+1) % display_step == 0:\n",
    "            c = sess.run(cost, feed_dict={X: train_X, Y:train_Y})\n",
    "            print (\"Epoch:\", '%04d' % (epoch+1), \"cost=\", \"{:.9f}\".format(c), \\\n",
    "                \"W=\", sess.run(W), \"b=\", sess.run(b))\n",
    "\n",
    "    print (\"Optimization Finished!\")\n",
    "    training_cost = sess.run(cost, feed_dict={X: train_X, Y: train_Y})\n",
    "    print (\"Training cost=\", training_cost, \"W=\", sess.run(W), \"b=\", sess.run(b), '\\n')\n",
    "\n",
    "    #Graphic display\n",
    "    plt.plot(train_X, train_Y, 'ro', label='Original data')\n",
    "    plt.plot(train_X, sess.run(W) * train_X + sess.run(b), label='Fitted line')\n",
    "    plt.legend()\n",
    "    plt.show()"
   ]
  },
  {
   "cell_type": "code",
   "execution_count": 15,
   "metadata": {},
   "outputs": [
    {
     "data": {
      "text/plain": [
       "<matplotlib.axes._subplots.AxesSubplot at 0x7f7bf457e128>"
      ]
     },
     "execution_count": 15,
     "metadata": {},
     "output_type": "execute_result"
    },
    {
     "data": {
      "image/png": "[encoded data removed]",
      "text/plain": [
       "<Figure size 432x288 with 1 Axes>"
      ]
     },
     "metadata": {},
     "output_type": "display_data"
    }
   ],
   "source": [
    "import seaborn as sns\n",
    "sns.regplot(x=train_X, y=train_Y, x_bins=100, fit_reg=None)"
   ]
  },
  {
   "cell_type": "code",
   "execution_count": null,
   "metadata": {},
   "outputs": [],
   "source": []
  }
 ],
 "metadata": {
  "kernelspec": {
   "display_name": "Python 3",
   "language": "python",
   "name": "python3"
  },
  "language_info": {
   "codemirror_mode": {
    "name": "ipython",
    "version": 3
   },
   "file_extension": ".py",
   "mimetype": "text/x-python",
   "name": "python",
   "nbconvert_exporter": "python",
   "pygments_lexer": "ipython3",
   "version": "3.4.5"
  }
 },
 "nbformat": 4,
 "nbformat_minor": 2
}
