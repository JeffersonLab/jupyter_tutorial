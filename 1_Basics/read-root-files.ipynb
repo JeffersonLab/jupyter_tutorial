{
 "cells": [
  {
   "cell_type": "markdown",
   "metadata": {},
   "source": [
    "# Reading ROOT files and plotting data\n",
    "\n",
    "This example notebook reads a ROOT file and plots data on a set of variables.\n",
    "\n",
    "We start by loading the required packages. In our case we use:\n",
    "- `uproot` to read the ROOT files,\n",
    "- `pandas` to process structured data,\n",
    "- `matplotlib` to create plots.\n",
    "\n",
    "### Getting started"
   ]
  },
  {
   "cell_type": "code",
   "execution_count": null,
   "metadata": {},
   "outputs": [],
   "source": [
    "import uproot as up;\n",
    "import pandas as pd;\n",
    "import matplotlib as mpl;\n",
    "\n",
    "# We want the plots to appear inline in this notebook\n",
    "%matplotlib inline\n",
    "mpl.style.use('ggplot')"
   ]
  },
  {
   "cell_type": "markdown",
   "metadata": {},
   "source": [
    "### Reading the ROOT file\n",
    "\n",
    "Next we read the ROOT file using the `uproot` package (with alias `up`). We need to refer to the full `/lustre` location of the cached `/mss` file structure because (currently) the `/cache` link points to the theory side of the `/mss` structure (yes, there are two separate `/mss` systems)."
   ]
  },
  {
   "cell_type": "code",
   "execution_count": null,
   "metadata": {},
   "outputs": [],
   "source": [
    "tfile = up.open('/lustre/expphy/cache/hallc/qweak/rootfiles/pass5b/QwPass5b_18110.000.trees.root')"
   ]
  },
  {
   "cell_type": "markdown",
   "metadata": {},
   "source": [
    "We get the tree from the file by name. You can get a list of names by calling the `tfile.keys()` function."
   ]
  },
  {
   "cell_type": "code",
   "execution_count": null,
   "metadata": {},
   "outputs": [],
   "source": [
    "ttree = tfile.get(\"Hel_Tree\")"
   ]
  },
  {
   "cell_type": "markdown",
   "metadata": {},
   "source": [
    "### Retrieving a branch\n",
    "\n",
    "In the tree we create a pandas data frame from the array of data in the branch \"asym_qwk_bcm1\". Again, we can get the list of names by calling the `ttree.keys()` function."
   ]
  },
  {
   "cell_type": "code",
   "execution_count": null,
   "metadata": {},
   "outputs": [],
   "source": [
    "bcm1 = pd.DataFrame(ttree.array(\"asym_qwk_bcm1\"))"
   ]
  },
  {
   "cell_type": "markdown",
   "metadata": {},
   "source": [
    "The `describe()` function on a pandas data frame is often a convenient way to get a quick overview of the behavior of the data. In our case, this displays for example the mean and standard deviation of all leafs (or fields, in pandas parlance)."
   ]
  },
  {
   "cell_type": "code",
   "execution_count": null,
   "metadata": {},
   "outputs": [],
   "source": [
    "bcm1.describe()"
   ]
  },
  {
   "cell_type": "markdown",
   "metadata": {},
   "source": [
    "### Retrieving a set of leaves\n",
    "\n",
    "We can easily create pandas data frames from subsets of fields by indexing a data frame with a list. Notice how we are passing the list, with its square brackets, as an index, with a second set of square brackets.\n",
    "\n",
    "By using the `corr()` function we get a quick numerical correlation matrix. Later we will plot the set of correlation scatter plots."
   ]
  },
  {
   "cell_type": "code",
   "execution_count": null,
   "metadata": {},
   "outputs": [],
   "source": [
    "bcm1[[\"hw_sum\", \"block0\", \"block1\", \"block2\", \"block3\"]].corr()"
   ]
  },
  {
   "cell_type": "markdown",
   "metadata": {},
   "source": [
    "### Plotting the data\n",
    "\n",
    "Just as `describe()` quickly returns the numerical properties of a data frame, you can use `bootstrap_plot()` to perform a quick visual inspection of the data. We specify that we look at only a fraction of the data set by plotting a fixed number of samples."
   ]
  },
  {
   "cell_type": "code",
   "execution_count": null,
   "metadata": {},
   "outputs": [],
   "source": [
    "pd.plotting.bootstrap_plot(bcm1[[\"hw_sum\"]], samples=500)"
   ]
  },
  {
   "cell_type": "markdown",
   "metadata": {},
   "source": [
    "A lag plot can help us identify whether there is time dependence in the data set."
   ]
  },
  {
   "cell_type": "code",
   "execution_count": null,
   "metadata": {},
   "outputs": [],
   "source": [
    "pd.plotting.lag_plot(bcm1[[\"hw_sum\"]])"
   ]
  },
  {
   "cell_type": "markdown",
   "metadata": {},
   "source": [
    "Finally, we can pass a set of leaves and create a matrix of scatter plots."
   ]
  },
  {
   "cell_type": "code",
   "execution_count": null,
   "metadata": {},
   "outputs": [],
   "source": [
    "pd.plotting.scatter_matrix(bcm1[[\"hw_sum\", \"block0\", \"block1\", \"block2\", \"block3\"]],\n",
    "                           alpha = 0.3, figsize = (14,8), diagonal='kde')"
   ]
  },
  {
   "cell_type": "code",
   "execution_count": null,
   "metadata": {},
   "outputs": [],
   "source": []
  }
 ],
 "metadata": {
  "kernelspec": {
   "display_name": "Python 2",
   "language": "python",
   "name": "python2"
  },
  "language_info": {
   "codemirror_mode": {
    "name": "ipython",
    "version": 2
   },
   "file_extension": ".py",
   "mimetype": "text/x-python",
   "name": "python",
   "nbconvert_exporter": "python",
   "pygments_lexer": "ipython2",
   "version": "2.7.12"
  }
 },
 "nbformat": 4,
 "nbformat_minor": 2
}

