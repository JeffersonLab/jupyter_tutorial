{
 "cells": [
  {
   "cell_type": "markdown",
   "metadata": {},
   "source": [
    "# Installing packages locally for use in Jupyter notebooks\n",
    "\n",
    "Occasionally you will want to install packages that are not available on `jupyter.jlab.org`, or you will want to upgrade the ones that are available to newer version. Due to the firewall between the `jupyter.jlab.org` server and the interactive farm environment, this will require some additional work. It is, however, not impossible."
   ]
  },
  {
   "cell_type": "markdown",
   "metadata": {},
   "source": [
    "## Installing the package using pip\n",
    "\n",
    "We will start with the commands necessary to install a new package on `ifarm`. After loggging in on `ifarm.jlab.org` execute the following command:\n",
    "```\n",
    "export PATH=/apps/python/3.4.3/bin:$PATH\n",
    "pip3 install --user --upgrade uproot\n",
    "```\n",
    "\n",
    "This will install the upgraded version of the package `uproot` in the local python user base directory, typically the `~/.local` directory tree. Check the output of the `pip3` command to be sure."
   ]
  },
  {
   "cell_type": "markdown",
   "metadata": {},
   "source": [
    "## Loading the user base directory\n",
    "\n",
    "To be able to use the packages that the user installed to their user base directory, we must add that directory to the search path. We use the package `sys` for this. These are the two lines you will want to add to the top of every notebook on `jupyter.jlab.org`, at least until this location is added to the user base directory search path by default."
   ]
  },
  {
   "cell_type": "code",
   "execution_count": 21,
   "metadata": {},
   "outputs": [],
   "source": [
    "import sys, os, getpass\n",
    "sys.path.append(\"/u/home/\" + getpass.getuser() + \"/.local/\")"
   ]
  },
  {
   "cell_type": "markdown",
   "metadata": {},
   "source": [
    "## Testing the setup\n",
    "\n",
    "Finally, we test this setup by loading the package we just installed, and checking the version."
   ]
  },
  {
   "cell_type": "code",
   "execution_count": 11,
   "metadata": {},
   "outputs": [],
   "source": [
    "import uproot\n",
    "uproot.__version__"
   ]
  },
  {
   "cell_type": "code",
   "execution_count": null,
   "metadata": {},
   "outputs": [],
   "source": []
  }
 ],
 "metadata": {
  "kernelspec": {
   "display_name": "Python 3",
   "language": "python",
   "name": "python3"
  },
  "language_info": {
   "codemirror_mode": {
    "name": "ipython",
    "version": 3
   },
   "file_extension": ".py",
   "mimetype": "text/x-python",
   "name": "python",
   "nbconvert_exporter": "python",
   "pygments_lexer": "ipython3",
   "version": "3.4.5"
  }
 },
 "nbformat": 4,
 "nbformat_minor": 2
}
